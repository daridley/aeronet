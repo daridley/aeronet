{
 "cells": [
  {
   "cell_type": "code",
   "execution_count": null,
   "metadata": {
    "collapsed": false
   },
   "outputs": [],
   "source": [
    "\"\"\"\n",
    "Code base for visualizing measurements made as part of the \n",
    "NASA AERONET sun photometer network monitoring aerosol optical depth\n",
    "Several components:\n",
    "(1) Read the txt data provided from the current NASA AERONET website and load into database\n",
    "    This needs to be updated, but not too regularly as not yet a 'real-time' network, \n",
    "    so will involve repeating the reprocessing step (2) each time (e.g. weekly/monthly).\n",
    "(2) Perform set of common statistical analysis on the data so that this can be archived.\n",
    "    e.g. combining years of hourly data into climatologic monthly means\n",
    "    This will save time when common requests are made by users.\n",
    "(3) User Interface - this will require text boxes and a map for data selection\n",
    "    as well as a code entry line so advanced users can quickly make requests.\n",
    "(4) Output panel - common statistics and figures will be output for the selected sites.\n",
    "\"\"\""
   ]
  },
  {
   "cell_type": "code",
   "execution_count": 9,
   "metadata": {
    "collapsed": false
   },
   "outputs": [],
   "source": [
    "#!pip install seaborn\n",
    "%matplotlib inline\n",
    "import numpy as np\n",
    "import matplotlib.pyplot as plt\n",
    "import pandas as pd\n",
    "import seaborn as sns\n",
    "pd.set_option('display.width', 800)\n",
    "pd.set_option('display.max_columns', 100)\n",
    "from pandas import Series, DataFrame\n",
    "#read in AERONET data\n",
    "from datetime import datetime\n",
    "\n"
   ]
  },
  {
   "cell_type": "code",
   "execution_count": 8,
   "metadata": {
    "collapsed": false
   },
   "outputs": [],
   "source": [
    "def load_aeronet(byname=\"\",bydate=\"\",bylocation=\"\"):\n",
    "  \"\"\"several ways to extract AERONET data from the archive\"\"\"\n",
    "\n",
    "class site(object):\n",
    "  \"\"\"An AERONET site object\"\"\"\n",
    "  \"\"\"Attributes:\n",
    "     Name\n",
    "     ID\n",
    "     Start Date\n",
    "     End Date\n",
    "     Longitude\n",
    "     Latitude\n",
    "     Elevation\n",
    "     AOD @ 440nm [pre-process daily, hourly, morning, afternoon]\n",
    "     AOD @ 870nm [pre-process daily, hourly, morning, afternoon]\n",
    "     AOD @ 500nm [pre-process daily, hourly, morning, afternoon]\n",
    "     Fine AOD fraction [associated ith 500nm O'Neill retrieval]\n",
    "     SSA\n",
    "     Angstrom Exponent (870/440)\n",
    "  \"\"\"\n"
   ]
  },
  {
   "cell_type": "code",
   "execution_count": 10,
   "metadata": {
    "collapsed": false
   },
   "outputs": [
    {
     "name": "stderr",
     "output_type": "stream",
     "text": [
      "C:\\Users\\davea\\Anaconda3\\lib\\site-packages\\ipykernel\\__main__.py:73: FutureWarning: how in .resample() is deprecated\n",
      "the new syntax is .resample(...).mean()\n",
      "C:\\Users\\davea\\Anaconda3\\lib\\site-packages\\ipykernel\\__main__.py:76: FutureWarning: how in .resample() is deprecated\n",
      "the new syntax is .resample(...).median()\n",
      "C:\\Users\\davea\\Anaconda3\\lib\\site-packages\\ipykernel\\__main__.py:82: FutureWarning: how in .resample() is deprecated\n",
      "the new syntax is .resample(...).mean()\n"
     ]
    },
    {
     "data": {
      "image/png": "[encoded data removed]",
      "text/plain": [
       "<matplotlib.figure.Figure at 0xd383e80>"
      ]
     },
     "metadata": {},
     "output_type": "display_data"
    }
   ],
   "source": [
    "\n",
    "\"\"\"Load in the model data\n",
    "   Eventually this should come from a user request\n",
    "   based on the name, location or time.\n",
    "\"\"\"\n",
    "#daves dir and dates\n",
    "adir = \"C:\\\\Users\\\\davea\\\\\\Dropbox (MIT)\\\\data\\\\AERONET\\\\AOT\\\\LEV20\\\\DAILY\\\\\"\n",
    "adate=\"920801_170708\"\n",
    "#dans dir and dates\n",
    "#adir = \"C:\\\\Users\\\\davea\\\\\\Dropbox (MIT)\\\\data\\\\AERONET\\\\AOT\\\\LEV20\\\\DAILY\\\\\"\n",
    "#adate=\"920801_170708\"\n",
    "afile=adate+\"_Dalanzadgad.lev20\"\n",
    "d2 = pd.read_csv(adir+afile,skiprows=[0,1,2,3],header=0,parse_dates=[0,1])\n",
    "\n",
    "afile=\"920801_170708_Capo_Verde.lev20\"\n",
    "d1 = pd.read_csv(adir+afile,skiprows=[0,1,2,3],header=0,parse_dates=[0,1])\n",
    "\n",
    "afile=\"920801_170708_Dakar.lev20\"\n",
    "d0 = pd.read_csv(adir+afile,skiprows=[0,1,2,3],header=0,parse_dates=[0,1])\n",
    "\n",
    "afile=\"920801_170708_MD_Science_Center.lev20\"\n",
    "d3 = pd.read_csv(adir+afile,skiprows=[0,1,2,3],header=0,parse_dates=[0,1])\n",
    "#datetime.year(stn['Date(dd-mm-yy)'])\n",
    "#sns.set()\n",
    "#stn_rect = stn.pivot(\"Julian_Day\", \"AOT_1020\", \"AOT_440\")\n",
    "#sns.pairplot(stn_rect, hue=\"AOT_440\", size=2.5)\n",
    "#strdate = DataFrame(stn,columns=[0])\n",
    "#strdate = \n",
    "#date_object = datetime.strptime(strdate, '%d:%m:%Y')\n",
    "\n",
    "color = sns.color_palette()[3]\n",
    "#g = sns.jointplot(\"AOT_440\", \"AOT_1020\", data=stn, kind=\"reg\",\n",
    "#                  xlim=(0, 1), ylim=(0, 1), color=color, size=7)\n",
    "def f(df):\n",
    "    df = df.copy()\n",
    "    df['Date(dd-mm-yy)'] = pd.to_datetime(df['Date(dd-mm-yy)'], format='%d:%m:%Y')\n",
    "    df['Year'] = pd.DatetimeIndex(df['Date(dd-mm-yy)']).year\n",
    "    df['Month'] = pd.DatetimeIndex(df['Date(dd-mm-yy)']).month\n",
    "    df['Day'] = pd.DatetimeIndex(df['Date(dd-mm-yy)']).day\n",
    "    df.fillna(0)\n",
    "    df=df[['Date(dd-mm-yy)','AOT_440','AOT_675','AOT_870','AOT_1020','440-870Angstrom']]\n",
    "    df = df.set_index('Date(dd-mm-yy)')\n",
    "    df = df.dropna()\n",
    "    df = df.fillna(0)\n",
    "    df['Year'] = df.index.year\n",
    "    df['Month'] = df.index.month\n",
    "    df['Day'] = df.index.day\n",
    "    return df\n",
    "stn2b=f(d2)\n",
    "stn3b=f(d3)\n",
    "stn1b=f(d1)\n",
    "stn0b=f(d0)\n",
    "#stn1.fillna(0)\n",
    "\n",
    "#stn3 = stn2.set_index(pd.DatetimeIndex(stn2['Date(dd-mm-yy)']))\n",
    "#stn3=stn2[['Date(dd-mm-yy)','AOT_440']]\n",
    "#stn2.head\n",
    "\n",
    "#stn1b=stn1[['Date(dd-mm-yy)','AOT_440','AOT_675','AOT_870','AOT_1020','440-870Angstrom']]\n",
    "#def _sum(x):\n",
    "#   if len(x) == 0: return 0\n",
    "#   else: return sum(x)\n",
    "\n",
    "#stn3=f(stn3)\n",
    "\n",
    "#stn1b=f(stn1b)\n",
    "#stn1b = stn1b.set_index('Date(dd-mm-yy)')\n",
    "#stn1b = stn1b.dropna()\n",
    "#stn1b = stn1b.fillna(0)\n",
    "#stn1b['Year'] = stn1b.index.year\n",
    "#stn1b['Month'] = stn1b.index.month\n",
    "\n",
    "stnmd= stn2b[['AOT_440','AOT_675','AOT_870','AOT_1020','440-870Angstrom']].resample('M', how='mean')\n",
    "stnmd = stnmd.dropna()\n",
    "stnmd = stnmd.fillna(0)\n",
    "stnmn= stn2b[['AOT_440','AOT_675','AOT_870','AOT_1020','440-870Angstrom']].resample('M', how='median')\n",
    "stnmn = stnmn.dropna()\n",
    "stnmn = stnmn.fillna(0)\n",
    "\n",
    "\n",
    "#stn3 = stn3.set_index('Date(dd-mm-yy)')\n",
    "stn2c = stn2b[['AOT_440','440-870Angstrom']].resample('M', how='mean')\n",
    "#stn4 = stn4[['440-870Angstrom']].resample('M', how='mean')\n",
    "stn2c = stn2c.dropna()\n",
    "stn2c = stn2c.fillna(0)\n",
    "stn2c['Year'] = stn2c.index.year\n",
    "stn2c['Month'] = stn2c.index.month\n",
    "\n",
    "stn_rect = stn2c.pivot('Year','Month','AOT_440')\n",
    "stn_rect2 = stn2c.pivot('Year','Month','440-870Angstrom')\n",
    "#stn_rect = stn_rect.ix[stn2.onth.iloc[:12]]\n",
    "#stn3.head\n",
    "\n",
    "stn_rect.head\n",
    "#sns.heatmap(stn_rect)\n",
    "stn2b.head\n",
    "\n",
    "\n",
    "#plt.plot(stn4.index, stn4['AOT_440'], 'r', stn4.index, stn4['AOT_675'], 'b', stn4.index, stn4['AOT_870'], 'g')\n",
    "plt.plot(stn2b.index, stn2b['AOT_440'], 'b.',stnmn.index, stnmn['AOT_440'], 'r')\n",
    "plt.show()\n"
   ]
  },
  {
   "cell_type": "code",
   "execution_count": null,
   "metadata": {
    "collapsed": false
   },
   "outputs": [],
   "source": [
    "stn1b"
   ]
  },
  {
   "cell_type": "code",
   "execution_count": null,
   "metadata": {
    "collapsed": false
   },
   "outputs": [],
   "source": [
    "sns.set(style=\"white\", palette=\"GnBu_d\")\n",
    "sns.set_palette(\"husl\")\n",
    "#f, axes = plt.subplots(1, 1, figsize=(10, 10), sharex=True)\n",
    "#sns.despine(left=True)\n",
    "\n",
    "#b, g, r, p = sns.color_palette(\"muted\", 4)\n",
    "#sns.distplot(stn3['AOT_440'], color=p)\n",
    "\n",
    "#sns.pairplot(stn4[['AOT_440','AOT_870','440-870Angstrom','Month']], hue=\"Month\", size=4.0)\n",
    "dat=stn2b[['Year','Month','Day','AOT_440','AOT_1020']]\n",
    "dat=stn2b[['Month','AOT_440']]\n",
    "dat['index']=dat.index\n",
    "dat['Dalanzadgad']=np.log10(stn2b['AOT_440'])\n",
    "dat['Cape_Verde']=np.log10(stn1b['AOT_440'])\n",
    "dat['Dakar']=np.log10(stn0b['AOT_440'])\n",
    "dat['Maryland']=np.log10(stn3b['AOT_440'])\n",
    "dat2=dat.groupby('Month')\n",
    "\n",
    "fig, ax = plt.subplots(figsize=(8,6))\n",
    "#plt.ylim((0,0.5))\n",
    "fig2, ax2 = plt.subplots(figsize=(4,3))\n",
    "#stn2b[['Month','AOT_440']].groupby('Month').mean().plot(kind='line', ax=ax)\n",
    "dat[['Month','Cape_Verde','Dalanzadgad','Dakar','Maryland']].groupby('Month').mean().plot(kind='line', ax=ax)\n",
    "###pd.melt(dat[['Month','AOT_440']],id_vars=['Month'])\n",
    "###pd.pivot(dat[['Month','AOT_440']],index='AOT_440')\n",
    "#dat3=dat.pivot(index=\"index\", columns='Month', values='AOT_440')\n",
    "#dat3.plot(kind='box', ax=ax)\n",
    "dat[['Cape_Verde','Dalanzadgad','Dakar','Maryland']].plot(kind='hist', ax=ax2, alpha=0.5)\n",
    "fig3, ax3 = plt.subplots(figsize=(8,6))\n",
    "dat[['Month','Cape_Verde','Dalanzadgad','Dakar','Maryland']].groupby('Month').mean().plot(kind='bar', ax=ax3)"
   ]
  },
  {
   "cell_type": "code",
   "execution_count": null,
   "metadata": {
    "collapsed": false
   },
   "outputs": [],
   "source": [
    "sns.set(style=\"ticks\")\n",
    "\n",
    "# Load the example tips dataset\n",
    "tips = sns.load_dataset(\"tips\")\n",
    "dat0=dat[['Month','Cape_Verde','Dalanzadgad','Dakar','Maryland']]\n",
    "#dat0['Cape_Verde']=10.0**dat0['Cape_Verde']\n",
    "#dat0['Dalanzadgad']=10.0**dat0['Dalanzadgad']\n",
    "#dat0['Dakar']=10.0**dat0['Dakar']\n",
    "#dat0['Maryland']=10.0**dat0['Maryland']\n",
    "\n",
    "# Draw a nested boxplot to show bills by day and sex\n",
    "#sns.boxplot(x=\"Month\", y=\"value\", hue=\"site\", data=dat0, palette=\"husl\")\n",
    "#sns.boxplot(x=\"day\", y=\"total_bill\", hue=\"sex\", data=tips, palette=\"PRGn\")\n",
    "#sns.despine(offset=10, trim=True)\n",
    "dat00=pd.melt(dat0, id_vars='Month', value_vars=['Cape_Verde','Dalanzadgad','Dakar','Maryland'],value_name=\"logAOD\",var_name=\"Site\")\n",
    "sns.boxplot(x=\"Month\", y=\"logAOD\", hue=\"Site\", data=dat00, palette=\"husl\")"
   ]
  },
  {
   "cell_type": "code",
   "execution_count": null,
   "metadata": {
    "collapsed": false
   },
   "outputs": [],
   "source": [
    "sns.heatmap(stn_rect,vmax=0.5)\n",
    "#sns.tsplot(data=stn_rect,time=\"Month\")"
   ]
  },
  {
   "cell_type": "code",
   "execution_count": null,
   "metadata": {
    "collapsed": false
   },
   "outputs": [],
   "source": [
    "sns.heatmap(stn_rect2,vmin=0.0,vmax=1.5)"
   ]
  },
  {
   "cell_type": "code",
   "execution_count": null,
   "metadata": {
    "collapsed": false
   },
   "outputs": [],
   "source": []
  },
  {
   "cell_type": "code",
   "execution_count": null,
   "metadata": {
    "collapsed": false
   },
   "outputs": [],
   "source": []
  },
  {
   "cell_type": "code",
   "execution_count": null,
   "metadata": {
    "collapsed": false
   },
   "outputs": [],
   "source": [
    "stn2['DayList']=stn2['Julian_Day']+365*(stn2['Year']-2009)\n",
    "dat=stn2[['DayList','AOT_440','AOT_675','AOT_870','AOT_1020']]\n",
    "#d1 = pd.DataFrame(dat, columns = ['AOT_440','AOT_675'])\n",
    "d2 = pd.melt(dat, id_vars=['DayList'], var_name='WV', value_name='value')\n",
    "d2['index']=d2.index\n",
    "#d2 = d1.stack()\n",
    "#sns.tsplot(data=d2,unit=\"Julian_Day\" time=\"Julian_Day\",condition=\"WV\", value=\"value\")\n",
    "d2.fillna(0)\n"
   ]
  },
  {
   "cell_type": "code",
   "execution_count": null,
   "metadata": {
    "collapsed": true
   },
   "outputs": [],
   "source": [
    "sns.set(palette=\"hls\", style=\"white\")\n",
    "stn2.plot(y=['AOT_440','AOT_870','AOT_675','AOT_1020'])\n",
    "#sns.tsplot(data=d2, time=\"index\", value=\"value\")"
   ]
  },
  {
   "cell_type": "code",
   "execution_count": null,
   "metadata": {
    "collapsed": true
   },
   "outputs": [],
   "source": [
    "d2=dat.stack()\n",
    "#d2.columns.values[1]='WV'\n",
    "type(d2)"
   ]
  },
  {
   "cell_type": "code",
   "execution_count": null,
   "metadata": {
    "collapsed": true
   },
   "outputs": [],
   "source": []
  },
  {
   "cell_type": "code",
   "execution_count": null,
   "metadata": {
    "collapsed": false
   },
   "outputs": [],
   "source": []
  },
  {
   "cell_type": "code",
   "execution_count": null,
   "metadata": {
    "collapsed": true
   },
   "outputs": [],
   "source": []
  }
 ],
 "metadata": {
  "kernelspec": {
   "display_name": "Python 3",
   "language": "python",
   "name": "python3"
  },
  "language_info": {
   "codemirror_mode": {
    "name": "ipython",
    "version": 3
   },
   "file_extension": ".py",
   "mimetype": "text/x-python",
   "name": "python",
   "nbconvert_exporter": "python",
   "pygments_lexer": "ipython3",
   "version": "3.4.4"
  }
 },
 "nbformat": 4,
 "nbformat_minor": 1
}
