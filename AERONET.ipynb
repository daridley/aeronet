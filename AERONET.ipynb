{
 "cells": [
  {
   "cell_type": "code",
   "execution_count": null,
   "metadata": {
    "collapsed": false
   },
   "outputs": [],
   "source": [
    "\"\"\"\n",
    "Code base for visualizing measurements made as part of the \n",
    "NASA AERONET sun photometer network monitoring aerosol optical depth\n",
    "Several components:\n",
    "(1) Read the txt data provided from the current NASA AERONET website and load into database\n",
    "    This needs to be updated, but not too regularly as not yet a 'real-time' network, \n",
    "    so will involve repeating the reprocessing step (2) each time (e.g. weekly/monthly).\n",
    "(2) Perform set of common statistical analysis on the data so that this can be archived.\n",
    "    e.g. combining years of hourly data into climatologic monthly means\n",
    "    This will save time when common requests are made by users.\n",
    "(3) User Interface - this will require text boxes and a map for data selection\n",
    "    as well as a code entry line so advanced users can quickly make requests.\n",
    "(4) Output panel - common statistics and figures will be output for the selected sites.\n",
    "\"\"\""
   ]
  },
  {
   "cell_type": "code",
   "execution_count": null,
   "metadata": {
    "collapsed": false
   },
   "outputs": [],
   "source": [
    "#!pip install seaborn\n",
    "%matplotlib inline\n",
    "import numpy as np\n",
    "import matplotlib.pyplot as plt\n",
    "import pandas as pd\n",
    "import seaborn as sns\n",
    "pd.set_option('display.width', 800)\n",
    "pd.set_option('display.max_columns', 100)\n",
    "from pandas import Series, DataFrame\n",
    "#read in AERONET data\n",
    "from datetime import datetime\n",
    "\n"
   ]
  },
  {
   "cell_type": "code",
   "execution_count": null,
   "metadata": {
    "collapsed": false
   },
   "outputs": [],
   "source": [
    "def load_aeronet(byname=\"\",bydate=\"\",bylocation=\"\"):\n",
    "  \"\"\"several ways to extract AERONET data from the archive\"\"\"\n",
    "\n",
    "class site(object):\n",
    "  \"\"\"An AERONET site object\"\"\"\n",
    "  \"\"\"Attributes:\n",
    "     Name\n",
    "     ID\n",
    "     Start Date\n",
    "     End Date\n",
    "     Longitude\n",
    "     Latitude\n",
    "     Elevation\n",
    "     AOD @ 440nm [pre-process daily, hourly, morning, afternoon]\n",
    "     AOD @ 870nm [pre-process daily, hourly, morning, afternoon]\n",
    "     AOD @ 500nm [pre-process daily, hourly, morning, afternoon]\n",
    "     Fine AOD fraction [associated ith 500nm O'Neill retrieval]\n",
    "     SSA\n",
    "     Angstrom Exponent (870/440)\n",
    "  \"\"\"\n",
    "def "
   ]
  },
  {
   "cell_type": "code",
   "execution_count": null,
   "metadata": {
    "collapsed": false
   },
   "outputs": [],
   "source": [
    "\n",
    "\"\"\"Load in the model data\n",
    "   Eventually this should come from a user request\n",
    "   based on the name, location or time.\n",
    "\"\"\"\n",
    "adir = \"C:\\\\Users\\\\davea\\\\\\Dropbox (MIT)\\\\data\\\\AERONET\\\\AOT\\\\LEV20\\\\DAILY\\\\\"\n",
    "afile=\"920801_170708_Mauna_Loa.lev20\"\n",
    "stn = pd.read_csv(adir+afile,skiprows=[0,1,2,3],header=0,parse_dates=[0,1])\n",
    "stn['Date(dd-mm-yy)'] = pd.to_datetime(stn['Date(dd-mm-yy)'], format='%d:%m:%Y')\n",
    "#datetime.year(stn['Date(dd-mm-yy)'])\n",
    "#sns.set()\n",
    "#stn_rect = stn.pivot(\"Julian_Day\", \"AOT_1020\", \"AOT_440\")\n",
    "#sns.pairplot(stn_rect, hue=\"AOT_440\", size=2.5)\n",
    "#strdate = DataFrame(stn,columns=[0])\n",
    "#strdate = \n",
    "#date_object = datetime.strptime(strdate, '%d:%m:%Y')\n",
    "\n",
    "color = sns.color_palette()[3]\n",
    "#g = sns.jointplot(\"AOT_440\", \"AOT_1020\", data=stn, kind=\"reg\",\n",
    "#                  xlim=(0, 1), ylim=(0, 1), color=color, size=7)\n",
    "def f(df):\n",
    "    df = df.copy()\n",
    "    df['Year'] = pd.DatetimeIndex(df['Date(dd-mm-yy)']).year\n",
    "    df['Month'] = pd.DatetimeIndex(df['Date(dd-mm-yy)']).month\n",
    "    df['Day'] = pd.DatetimeIndex(df['Date(dd-mm-yy)']).day\n",
    "    return df\n",
    "stn2=f(stn)\n",
    "stn2.fillna(0)\n",
    "#stn3 = stn2.set_index(pd.DatetimeIndex(stn2['Date(dd-mm-yy)']))\n",
    "stn3=stn2[['Date(dd-mm-yy)','AOT_440']]\n",
    "#stn2.head\n",
    "stn4=stn2[['Date(dd-mm-yy)','AOT_440','AOT_675','AOT_870','AOT_1020','440-870Angstrom']]\n",
    "\n",
    "#def _sum(x):\n",
    "#   if len(x) == 0: return 0\n",
    "#   else: return sum(x)\n",
    "\n",
    "stn3=f(stn3)\n",
    "stn4=f(stn4)\n",
    "stn4 = stn4.set_index('Date(dd-mm-yy)')\n",
    "stnmd= stn4[['AOT_440','AOT_675','AOT_870','AOT_1020','440-870Angstrom']].resample('M', how='mean')\n",
    "stnmd = stnmd.dropna()\n",
    "stnmd = stnmd.fillna(0)\n",
    "stnmn= stn4[['AOT_440','AOT_675','AOT_870','AOT_1020','440-870Angstrom']].resample('M', how='median')\n",
    "stnmn = stnmn.dropna()\n",
    "stnmn = stnmn.fillna(0)\n",
    "\n",
    "\n",
    "#stn3 = stn3.set_index('Date(dd-mm-yy)')\n",
    "stn3 = stn4[['AOT_440','440-870Angstrom']].resample('M', how='mean')\n",
    "#stn4 = stn4[['440-870Angstrom']].resample('M', how='mean')\n",
    "\n",
    "stn3 = stn3.dropna()\n",
    "stn3=stn3.fillna(0)\n",
    "stn3['Year'] = stn3.index.year\n",
    "stn3['Month'] = stn3.index.month\n",
    "\n",
    "stn4 = stn4.dropna()\n",
    "stn4=stn4.fillna(0)\n",
    "stn4['Year'] = stn4.index.year\n",
    "stn4['Month'] = stn4.index.month\n",
    "\n",
    "stn_rect = stn3.pivot('Year','Month','AOT_440')\n",
    "stn_rect2 = stn3.pivot('Year','Month','440-870Angstrom')\n",
    "#stn_rect = stn_rect.ix[stn2.onth.iloc[:12]]\n",
    "#stn3.head\n",
    "\n",
    "stn_rect.head\n",
    "#sns.heatmap(stn_rect)\n",
    "stn4.head\n",
    "\n",
    "\n",
    "#plt.plot(stn4.index, stn4['AOT_440'], 'r', stn4.index, stn4['AOT_675'], 'b', stn4.index, stn4['AOT_870'], 'g')\n",
    "plt.plot(stn4.index, stn4['AOT_440'], 'b.',stnmn.index, stnmn['AOT_440'], 'r')\n",
    "plt.show()\n"
   ]
  },
  {
   "cell_type": "code",
   "execution_count": null,
   "metadata": {
    "collapsed": false
   },
   "outputs": [],
   "source": [
    "sns.set(style=\"white\", palette=\"GnBu_d\")\n",
    "#f, axes = plt.subplots(1, 1, figsize=(10, 10), sharex=True)\n",
    "#sns.despine(left=True)\n",
    "\n",
    "#b, g, r, p = sns.color_palette(\"muted\", 4)\n",
    "#sns.distplot(stn3['AOT_440'], color=p)\n",
    "\n",
    "#sns.pairplot(stn4[['AOT_440','AOT_870','440-870Angstrom','Month']], hue=\"Month\", size=4.0)"
   ]
  },
  {
   "cell_type": "code",
   "execution_count": null,
   "metadata": {
    "collapsed": false
   },
   "outputs": [],
   "source": [
    "sns.heatmap(stn_rect,vmax=0.05)\n"
   ]
  },
  {
   "cell_type": "code",
   "execution_count": null,
   "metadata": {
    "collapsed": false
   },
   "outputs": [],
   "source": [
    "sns.heatmap(stn_rect2,vmin=0.0,vmax=1.5)"
   ]
  },
  {
   "cell_type": "code",
   "execution_count": null,
   "metadata": {
    "collapsed": false
   },
   "outputs": [],
   "source": []
  },
  {
   "cell_type": "code",
   "execution_count": null,
   "metadata": {
    "collapsed": true
   },
   "outputs": [],
   "source": []
  }
 ],
 "metadata": {
  "kernelspec": {
   "display_name": "Python 3",
   "language": "python",
   "name": "python3"
  },
  "language_info": {
   "codemirror_mode": {
    "name": "ipython",
    "version": 3
   },
   "file_extension": ".py",
   "mimetype": "text/x-python",
   "name": "python",
   "nbconvert_exporter": "python",
   "pygments_lexer": "ipython3",
   "version": "3.4.4"
  }
 },
 "nbformat": 4,
 "nbformat_minor": 0
}
